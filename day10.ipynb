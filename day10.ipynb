{
 "cells": [
  {
   "cell_type": "code",
   "execution_count": 21,
   "id": "d00dc419-67eb-4363-a8f1-87b2b1d4728b",
   "metadata": {},
   "outputs": [
    {
     "data": {
      "text/plain": [
       "339477"
      ]
     },
     "execution_count": 21,
     "metadata": {},
     "output_type": "execute_result"
    }
   ],
   "source": [
    "pairs = {'{': '}', '(':')', '[': ']', '<': '>'}\n",
    "pairs_r = {v:k for k,v in pairs.items()}\n",
    "\n",
    "point_dict = {')': 3, ']': 57, '}': 1197, '>': 25137}\n",
    "\n",
    "# part1\n",
    "with open('day10ex2.txt', 'r') as g:\n",
    "    data = g.read().splitlines()\n",
    "points = 0\n",
    "for line in data:\n",
    "    list_open = []\n",
    "    list_close = []\n",
    "    for char in [char for char in line][:]:\n",
    "        if char in pairs.keys():\n",
    "            list_open.append(pairs[char])\n",
    "        if char in pairs.values():\n",
    "            if len(list_open) >= 1 and list_open[-1] == pairs[pairs_r[char]]:\n",
    "                del list_open[-1]\n",
    "            else:\n",
    "                list_close.append(char)\n",
    "                #print('{} is corrupt, found {}'.format(line, list_close))\n",
    "                points+=point_dict[char]\n",
    "                break\n",
    "points"
   ]
  },
  {
   "cell_type": "code",
   "execution_count": 39,
   "id": "1e2520f3-e2c7-416b-b70b-df873d428090",
   "metadata": {},
   "outputs": [],
   "source": [
    "with open('day10ex2.txt', 'r') as g:\n",
    "    data = g.read().splitlines()\n",
    "\n",
    "completion_scores = []\n",
    "for line in data[:]:\n",
    "    list_open = []\n",
    "    list_close = []\n",
    "    for char in [char for char in line][:]:\n",
    "        if char in pairs.keys():\n",
    "            list_open.append(pairs[char])\n",
    "        if char in pairs.values():\n",
    "            if len(list_open) >= 1 and list_open[-1] == pairs[pairs_r[char]]:\n",
    "                del list_open[-1]\n",
    "            else:\n",
    "                list_close.append(char)\n",
    "                #print('{} is corrupt, found {}'.format(line, list_close))\n",
    "                points+=point_dict[char]\n",
    "                data.remove(line)\n",
    "                break"
   ]
  },
  {
   "cell_type": "code",
   "execution_count": 41,
   "id": "3ef3d36c-3461-4f22-8838-1eab750e803f",
   "metadata": {},
   "outputs": [],
   "source": [
    "point_dict = {')': 1, ']': 2, '}': 3, '>': 4}\n",
    "\n",
    "completion_scores = []\n",
    "for line in data[:]:\n",
    "    list_open = []\n",
    "    list_close = []\n",
    "    for char in [char for char in line][:]:\n",
    "        if char in pairs.keys():\n",
    "            list_open.append(pairs[char])\n",
    "        if char in pairs.values():\n",
    "            if len(list_open) >= 1 and list_open[-1] == pairs[pairs_r[char]]:\n",
    "                del list_open[-1]\n",
    "            else:\n",
    "                list_close.append(char)\n",
    "                #print('{} is corrupt, found {}'.format(line, list_close))\n",
    "                points+=point_dict[char]\n",
    "                data.remove(line)\n",
    "                break\n",
    "    list_open = list_open[::-1]\n",
    "    tot = 0\n",
    "    for char in list_open:\n",
    "        tot *= 5\n",
    "        tot += point_dict[char]\n",
    "    completion_scores.append(tot)"
   ]
  },
  {
   "cell_type": "code",
   "execution_count": 44,
   "id": "3f925818-78e8-4c03-8b5a-f4d60f585ada",
   "metadata": {},
   "outputs": [],
   "source": [
    "completion_scores.sort()"
   ]
  },
  {
   "cell_type": "code",
   "execution_count": 43,
   "id": "feb43139-81d6-440b-9e59-2f51b7e59ec8",
   "metadata": {},
   "outputs": [
    {
     "data": {
      "text/plain": [
       "3049320156"
      ]
     },
     "execution_count": 43,
     "metadata": {},
     "output_type": "execute_result"
    }
   ],
   "source": [
    "middleIndex = len(completion_scores)/2\n",
    "completion_scores[int(middleIndex)]"
   ]
  },
  {
   "cell_type": "code",
   "execution_count": null,
   "id": "ceec0bd6-e35d-4827-a691-f57c29164ff4",
   "metadata": {},
   "outputs": [],
   "source": []
  }
 ],
 "metadata": {
  "kernelspec": {
   "display_name": "Python 3 (ipykernel)",
   "language": "python",
   "name": "python3"
  },
  "language_info": {
   "codemirror_mode": {
    "name": "ipython",
    "version": 3
   },
   "file_extension": ".py",
   "mimetype": "text/x-python",
   "name": "python",
   "nbconvert_exporter": "python",
   "pygments_lexer": "ipython3",
   "version": "3.9.7"
  }
 },
 "nbformat": 4,
 "nbformat_minor": 5
}
