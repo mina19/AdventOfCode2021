{
 "cells": [
  {
   "cell_type": "code",
   "execution_count": 259,
   "id": "f230b76b-ff0f-4a0b-9766-cd40488fb5fe",
   "metadata": {},
   "outputs": [
    {
     "data": {
      "text/plain": [
       "array([[6, 5, 4, ..., 2, 3, 6],\n",
       "       [5, 4, 3, ..., 1, 3, 5],\n",
       "       [6, 6, 5, ..., 2, 9, 6],\n",
       "       ...,\n",
       "       [9, 8, 7, ..., 9, 8, 9],\n",
       "       [3, 9, 8, ..., 4, 9, 1],\n",
       "       [2, 0, 9, ..., 3, 2, 0]])"
      ]
     },
     "execution_count": 259,
     "metadata": {},
     "output_type": "execute_result"
    }
   ],
   "source": [
    "import numpy as np\n",
    "with open('day9ex2.txt', 'r') as f:\n",
    "    data = f.read().splitlines()\n",
    "dataf = []\n",
    "for line in data:\n",
    "    dataf.append([int(char) for char in line])\n",
    "dataf = np.asarray(dataf)\n",
    "dataf"
   ]
  },
  {
   "cell_type": "code",
   "execution_count": 260,
   "id": "553e9ef1-040e-46b9-9b72-991cf08fa290",
   "metadata": {},
   "outputs": [
    {
     "data": {
      "text/plain": [
       "491"
      ]
     },
     "execution_count": 260,
     "metadata": {},
     "output_type": "execute_result"
    }
   ],
   "source": [
    "# part 1\n",
    "rows, cols = dataf.shape\n",
    "low_points = []\n",
    "low_point_coords = []\n",
    "for i in range(rows): # look at ith rows\n",
    "    for j in range(cols):\n",
    "        val = dataf[i, j]\n",
    "        comp = []\n",
    "        if i!=0 and i!=rows-1 and j!=0 and j!=cols-1:\n",
    "            comp.append(dataf[i+1, j])\n",
    "            comp.append(dataf[i-1, j])\n",
    "            comp.append(dataf[i, j-1])\n",
    "            comp.append(dataf[i, j+1])\n",
    "        elif i==0: # first row\n",
    "            if j==0: # upper left diag\n",
    "                comp.append(dataf[i, j+1])\n",
    "            elif j==cols-1: # upper right diag\n",
    "                comp.append(dataf[i, j-1])\n",
    "            else:\n",
    "                comp.append(dataf[i, j-1])\n",
    "                comp.append(dataf[i, j+1])\n",
    "            comp.append(dataf[i+1, j])\n",
    "        elif i==rows-1: # last row\n",
    "            if j==0: # lower left diag\n",
    "                comp.append(dataf[i, j+1])\n",
    "            elif j==cols-1: # lower right diag\n",
    "                comp.append(dataf[i, j-1])\n",
    "            else:\n",
    "                comp.append(dataf[i, j-1])\n",
    "                comp.append(dataf[i, j+1])\n",
    "            comp.append(dataf[i-1, j])\n",
    "        elif (j==0 or j==cols-1) and i!=0 and i!=rows-1: # first or last col not diagonals\n",
    "            comp.append(dataf[i+1, j])\n",
    "            comp.append(dataf[i-1, j])\n",
    "            comp.append(dataf[i, j+1] if j==0 else dataf[i,j-1])\n",
    "        if val < min(comp):\n",
    "            low_points.append(val)\n",
    "            low_point_coords.append([i,j])\n",
    "sum(low_points) + len(low_points)"
   ]
  },
  {
   "cell_type": "code",
   "execution_count": 264,
   "id": "908644a5-52d0-43d4-a34e-c0d93468b35e",
   "metadata": {},
   "outputs": [],
   "source": [
    "# part 2 identify basins"
   ]
  },
  {
   "cell_type": "code",
   "execution_count": 266,
   "id": "41981068-a502-4688-ac12-9edd47a5ae93",
   "metadata": {},
   "outputs": [
    {
     "data": {
      "text/plain": [
       "1075536"
      ]
     },
     "execution_count": 266,
     "metadata": {},
     "output_type": "execute_result"
    }
   ],
   "source": [
    "with open('day9ex2.txt', 'r') as f:\n",
    "    heightmap = f.read().splitlines()\n",
    "\n",
    "heightmap = [[0 if num !=\"9\" else 9 for num in line.strip() ] for line in heightmap ]\n",
    "cols = len(heightmap[0])\n",
    "rows = len(heightmap)\n",
    "\n",
    "def floodfill(hmap, i, j):\n",
    "    score = 0\n",
    "    if hmap[i][j] == 0:  \n",
    "        hmap[i][j] = 1 \n",
    "        score = 1\n",
    "        if j > 0:\n",
    "            score += floodfill(hmap,i, j-1)\n",
    "        if j < len(hmap[0]) - 1:\n",
    "            score += floodfill(hmap,i, j+1)\n",
    "        if i > 0:\n",
    "            score += floodfill(hmap,i-1, j)\n",
    "        if i < len(hmap) - 1:\n",
    "            score += floodfill(hmap,i+1, j)\n",
    "    return score\n",
    "\n",
    "largest_basins = []\n",
    "for i in range(rows):\n",
    "     for j in range(cols):\n",
    "        largest_basins.append(floodfill(heightmap, i, j))\n",
    "#largest_basins\n",
    "largest_basins = np.prod(sorted(largest_basins)[-3:])\n",
    "largest_basins"
   ]
  },
  {
   "cell_type": "code",
   "execution_count": null,
   "id": "09289224-b814-448d-a7f1-a34ca0348e40",
   "metadata": {},
   "outputs": [],
   "source": []
  }
 ],
 "metadata": {
  "kernelspec": {
   "display_name": "Python 3 (ipykernel)",
   "language": "python",
   "name": "python3"
  },
  "language_info": {
   "codemirror_mode": {
    "name": "ipython",
    "version": 3
   },
   "file_extension": ".py",
   "mimetype": "text/x-python",
   "name": "python",
   "nbconvert_exporter": "python",
   "pygments_lexer": "ipython3",
   "version": "3.9.7"
  }
 },
 "nbformat": 4,
 "nbformat_minor": 5
}
