{
 "cells": [
  {
   "cell_type": "code",
   "execution_count": 1,
   "id": "19a8b846",
   "metadata": {},
   "outputs": [],
   "source": [
    "import pandas as pd"
   ]
  },
  {
   "cell_type": "code",
   "execution_count": 2,
   "id": "7cbba4f2",
   "metadata": {},
   "outputs": [],
   "source": [
    "df = pd.read_csv('day1ex2.txt', delimiter= '\\n', index_col=False, header = None)"
   ]
  },
  {
   "cell_type": "code",
   "execution_count": 3,
   "id": "803d78d1",
   "metadata": {},
   "outputs": [],
   "source": [
    "nums = list(df[0])"
   ]
  },
  {
   "cell_type": "code",
   "execution_count": 4,
   "id": "64761a4e",
   "metadata": {},
   "outputs": [],
   "source": [
    "count = 0\n",
    "for i in range(len(nums)-1):\n",
    "    if nums[i] < nums[i+1]:\n",
    "        count +=1\n",
    "    "
   ]
  },
  {
   "cell_type": "code",
   "execution_count": 5,
   "id": "9734f9ba",
   "metadata": {},
   "outputs": [
    {
     "data": {
      "text/plain": [
       "1448"
      ]
     },
     "execution_count": 5,
     "metadata": {},
     "output_type": "execute_result"
    }
   ],
   "source": [
    "count"
   ]
  },
  {
   "cell_type": "code",
   "execution_count": 6,
   "id": "d3195e53",
   "metadata": {},
   "outputs": [],
   "source": [
    "df1 = pd.read_csv('day1ex1.txt', delimiter= '\\n', index_col=False, header = None)"
   ]
  },
  {
   "cell_type": "code",
   "execution_count": 7,
   "id": "85ad503f",
   "metadata": {},
   "outputs": [],
   "source": [
    "nums1 = list(df1[0])"
   ]
  },
  {
   "cell_type": "code",
   "execution_count": 8,
   "id": "792bb37c",
   "metadata": {},
   "outputs": [],
   "source": [
    "count = 0\n",
    "for i in range(len(nums1)-3):\n",
    "    if nums1[i] < nums1[i+3]:\n",
    "        count +=1"
   ]
  },
  {
   "cell_type": "code",
   "execution_count": 9,
   "id": "7b64de0f",
   "metadata": {},
   "outputs": [
    {
     "data": {
      "text/plain": [
       "5"
      ]
     },
     "execution_count": 9,
     "metadata": {},
     "output_type": "execute_result"
    }
   ],
   "source": [
    "count"
   ]
  },
  {
   "cell_type": "code",
   "execution_count": 10,
   "id": "40ec13f2",
   "metadata": {},
   "outputs": [
    {
     "data": {
      "text/plain": [
       "1471"
      ]
     },
     "execution_count": 10,
     "metadata": {},
     "output_type": "execute_result"
    }
   ],
   "source": [
    "count = 0\n",
    "for i in range(len(nums)-3):\n",
    "    if nums[i] < nums[i+3]:\n",
    "        count +=1\n",
    "count"
   ]
  },
  {
   "cell_type": "code",
   "execution_count": null,
   "id": "ea8f393f",
   "metadata": {},
   "outputs": [],
   "source": []
  }
 ],
 "metadata": {
  "kernelspec": {
   "display_name": "Python 3 (ipykernel)",
   "language": "python",
   "name": "python3"
  },
  "language_info": {
   "codemirror_mode": {
    "name": "ipython",
    "version": 3
   },
   "file_extension": ".py",
   "mimetype": "text/x-python",
   "name": "python",
   "nbconvert_exporter": "python",
   "pygments_lexer": "ipython3",
   "version": "3.9.7"
  }
 },
 "nbformat": 4,
 "nbformat_minor": 5
}
