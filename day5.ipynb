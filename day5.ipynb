{
 "cells": [
  {
   "cell_type": "code",
   "execution_count": 61,
   "id": "01e5c369-f8df-4a55-b60a-0d4a347812f7",
   "metadata": {},
   "outputs": [],
   "source": [
    "with open('day5ex2.txt', 'r') as f:\n",
    "    data = f.read().splitlines()"
   ]
  },
  {
   "cell_type": "code",
   "execution_count": 62,
   "id": "17bf1fbc-21e9-42ad-af63-64ce88d19f8e",
   "metadata": {},
   "outputs": [],
   "source": [
    "# part 1\n",
    "coords = []\n",
    "for line in data:\n",
    "    res=line.split(' -> ')\n",
    "    x1, y1 = res[0].split(',')\n",
    "    x2, y2 = res[1].split(',')\n",
    "    x1 = int(x1)\n",
    "    x2 = int(x2)\n",
    "    y1 = int(y1)\n",
    "    y2 = int(y2)\n",
    "    if x1==x2:\n",
    "        for y in range(min(y1,y2), max(y1,y2)+1):\n",
    "            coords.append((x1,y))\n",
    "    if y1==y2:\n",
    "        for x in range(min(x1,x2), max(x1,x2)+1):\n",
    "            coords.append((x,y1))"
   ]
  },
  {
   "cell_type": "code",
   "execution_count": 63,
   "id": "7988dd9a-f051-4156-9345-301c57528532",
   "metadata": {},
   "outputs": [
    {
     "data": {
      "text/plain": [
       "5306"
      ]
     },
     "execution_count": 63,
     "metadata": {},
     "output_type": "execute_result"
    }
   ],
   "source": [
    "def CountFrequency(my_list):\n",
    "    freq = {}\n",
    "    for item in my_list:\n",
    "        if (item in freq):\n",
    "            freq[item] += 1\n",
    "        else:\n",
    "            freq[item] = 1\n",
    "    return len([k for k,v in freq.items() if v >=2])\n",
    "CountFrequency(coords)"
   ]
  },
  {
   "cell_type": "code",
   "execution_count": 64,
   "id": "9b75ac8c-f22a-42b8-8436-9e57ac913e6c",
   "metadata": {},
   "outputs": [],
   "source": [
    "# part 2\n",
    "coords = []\n",
    "for line in data:\n",
    "    res=line.split(' -> ')\n",
    "    x1, y1 = res[0].split(',')\n",
    "    x2, y2 = res[1].split(',')\n",
    "    x1 = int(x1)\n",
    "    x2 = int(x2)\n",
    "    y1 = int(y1)\n",
    "    y2 = int(y2)\n",
    "    if x1==x2:\n",
    "        for y in range(min(y1,y2), max(y1,y2)+1):\n",
    "            coords.append((x1,y))\n",
    "    if y1==y2:\n",
    "        for x in range(min(x1,x2), max(x1,x2)+1):\n",
    "            coords.append((x,y1))\n",
    "    if abs(y2-y1)==abs(x2-x1):\n",
    "        slope = (y2-y1)/(x2-x1)\n",
    "        if slope > 0:\n",
    "            minx = min(x1,x2)\n",
    "            y = y1 if minx==x1 else y2\n",
    "            for x in range(minx, max(x1,x2)+1):\n",
    "                coords.append((x, y))\n",
    "                y+=1\n",
    "        else:\n",
    "            minx = min(x1,x2)\n",
    "            y = y1 if minx==x1 else y2\n",
    "            for x in range(minx, max(x1,x2)+1):\n",
    "                coords.append((x, y))\n",
    "                y-=1     "
   ]
  },
  {
   "cell_type": "code",
   "execution_count": 65,
   "id": "9e6c4c39-addf-4ac7-9296-c235051b2b9b",
   "metadata": {},
   "outputs": [
    {
     "data": {
      "text/plain": [
       "17787"
      ]
     },
     "execution_count": 65,
     "metadata": {},
     "output_type": "execute_result"
    }
   ],
   "source": [
    "CountFrequency(coords)"
   ]
  },
  {
   "cell_type": "code",
   "execution_count": null,
   "id": "805b2e86-2f6f-442b-9187-e046a0a5b112",
   "metadata": {},
   "outputs": [],
   "source": []
  }
 ],
 "metadata": {
  "kernelspec": {
   "display_name": "Python 3 (ipykernel)",
   "language": "python",
   "name": "python3"
  },
  "language_info": {
   "codemirror_mode": {
    "name": "ipython",
    "version": 3
   },
   "file_extension": ".py",
   "mimetype": "text/x-python",
   "name": "python",
   "nbconvert_exporter": "python",
   "pygments_lexer": "ipython3",
   "version": "3.9.7"
  }
 },
 "nbformat": 4,
 "nbformat_minor": 5
}
